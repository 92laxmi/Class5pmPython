{
 "cells": [
  {
   "cell_type": "code",
   "execution_count": 1,
   "id": "c1a03031",
   "metadata": {},
   "outputs": [
    {
     "name": "stdout",
     "output_type": "stream",
     "text": [
      "hello world\n"
     ]
    }
   ],
   "source": [
    "class Hello:    # class, class name always  should be in capital\n",
    "    print(\"hello world\")\n",
    "    \n",
    "obj=Hello()    "
   ]
  },
  {
   "cell_type": "code",
   "execution_count": null,
   "id": "ca755196",
   "metadata": {},
   "outputs": [],
   "source": [
    "# class <class_name>:\n",
    "# <operation>\n",
    "\n",
    "# <obj>\n",
    "\n",
    "# class has two methods 1) @staticmethod   2) Using parameter \n",
    "# self -- (parameter) it is constructor , it helps to initial variables\n",
    "# init is a function used to initial variable inside class.\n",
    "\n",
    "\n"
   ]
  },
  {
   "cell_type": "code",
   "execution_count": 3,
   "id": "c09b5eab",
   "metadata": {},
   "outputs": [
    {
     "name": "stdout",
     "output_type": "stream",
     "text": [
      "Hello world\n"
     ]
    }
   ],
   "source": [
    "class Ecomm:\n",
    "    def acc(s):\n",
    "        print(\"Hello world\")\n",
    "obj=Ecomm()\n",
    "obj.acc()"
   ]
  },
  {
   "cell_type": "code",
   "execution_count": 7,
   "id": "846551f8",
   "metadata": {},
   "outputs": [
    {
     "name": "stdout",
     "output_type": "stream",
     "text": [
      "144\n",
      "384\n"
     ]
    }
   ],
   "source": [
    "class cal:\n",
    "    def area(self):\n",
    "        l=12\n",
    "        b=12\n",
    "        a=l*b\n",
    "        print(a)\n",
    "        \n",
    "    def volume(self):\n",
    "        l=12\n",
    "        b=4\n",
    "        h=8\n",
    "        v=l*b*h\n",
    "        print(v)\n",
    "        \n",
    "        \n",
    "obj=cal()\n",
    "obj.area()\n",
    "obj.volume()"
   ]
  },
  {
   "cell_type": "code",
   "execution_count": 9,
   "id": "59be4a09",
   "metadata": {},
   "outputs": [
    {
     "name": "stdout",
     "output_type": "stream",
     "text": [
      "50\n",
      "144\n"
     ]
    }
   ],
   "source": [
    "class cal:   \n",
    "    def area(self,l,b):\n",
    "       \n",
    "        a=l*b\n",
    "        print(a)\n",
    "        \n",
    "    def volume(self,l,b,h):\n",
    "        v=l*b*h\n",
    "        print(v)\n",
    "        \n",
    "obj=cal()\n",
    "obj.area(10,5)\n",
    "obj.volume(12,3,4)      \n",
    "    "
   ]
  },
  {
   "cell_type": "code",
   "execution_count": 11,
   "id": "fcfe29fe",
   "metadata": {},
   "outputs": [
    {
     "name": "stdout",
     "output_type": "stream",
     "text": [
      "25\n",
      "125\n"
     ]
    }
   ],
   "source": [
    "class cal:\n",
    "    def __init__(self,l,b,h):\n",
    "        self.l=l\n",
    "        self.b=b\n",
    "        self.h=h\n",
    "        \n",
    "        \n",
    "    def area(self):\n",
    "        a=self.l*self.b\n",
    "        print(a)\n",
    "        \n",
    "    def volume(self):\n",
    "     \n",
    "        v=self.l*self.b*self.h\n",
    "        print(v)\n",
    "        \n",
    "        \n",
    "obj=cal(5,5,5)\n",
    "obj.area()\n",
    "obj.volume()"
   ]
  },
  {
   "cell_type": "code",
   "execution_count": 12,
   "id": "d0329a46",
   "metadata": {},
   "outputs": [
    {
     "name": "stdout",
     "output_type": "stream",
     "text": [
      "enter length: 12\n",
      "enter breadth: 45\n",
      "enter height : 3\n",
      "540\n",
      "1620\n"
     ]
    }
   ],
   "source": [
    "class cal:\n",
    "    def __init__(self,x,y,z):\n",
    "        self.l=x\n",
    "        self.b=y\n",
    "        self.h=z\n",
    "        \n",
    "        \n",
    "    def area(self):\n",
    "        a=self.l*self.b\n",
    "        print(a)\n",
    "        \n",
    "    def volume(self):\n",
    "     \n",
    "        v=self.l*self.b*self.h\n",
    "        print(v)\n",
    "        \n",
    "l=int(input(\"enter length: \"))    \n",
    "b=int(input(\"enter breadth: \")) \n",
    "h=int(input(\"enter height : \")) \n",
    "obj=cal(l,b,h)\n",
    "obj.area()\n",
    "obj.volume()"
   ]
  },
  {
   "cell_type": "code",
   "execution_count": 4,
   "id": "31cf9f09",
   "metadata": {},
   "outputs": [
    {
     "name": "stdout",
     "output_type": "stream",
     "text": [
      "enter name: laxmi\n",
      "enter age: 20\n",
      "laxmi\n"
     ]
    }
   ],
   "source": [
    "# str method\n",
    "class info:\n",
    "    def __init__(self):\n",
    "        self.name=input(\"enter name: \")\n",
    "        self.age=int(input(\"enter age: \"))\n",
    "    def __str__(self):\n",
    "        return self.name\n",
    "obj=info()\n",
    "print(obj)"
   ]
  },
  {
   "cell_type": "code",
   "execution_count": 5,
   "id": "af4ed747",
   "metadata": {},
   "outputs": [
    {
     "name": "stdout",
     "output_type": "stream",
     "text": [
      "enter name: Laxmi\n",
      "enter age: 20\n",
      "Laxmi\n",
      "LaxmiMaurya\n"
     ]
    }
   ],
   "source": [
    "#str method\n",
    "class info:\n",
    "    def __init__(self):\n",
    "        self.name=input(\"enter name: \")\n",
    "        self.age=int(input(\"enter age: \"))\n",
    "    def __str__(self):\n",
    "        return self.name\n",
    "obj=info()\n",
    "print(obj)\n",
    "print(str(obj)+'Maurya')\n"
   ]
  },
  {
   "cell_type": "code",
   "execution_count": 7,
   "id": "e0c08657",
   "metadata": {},
   "outputs": [
    {
     "name": "stdout",
     "output_type": "stream",
     "text": [
      "enter name: Laxmi\n",
      "enter age: 20\n",
      "Laxmi 20\n"
     ]
    }
   ],
   "source": [
    "# str method\n",
    "class info:\n",
    "    def __init__(self):\n",
    "        self.name=input(\"enter name: \")\n",
    "        self.age=int(input(\"enter age: \"))\n",
    "    def __str__(self):\n",
    "        return f\"{self.name} {self.age}\"\n",
    "obj=info()\n",
    "print(obj)"
   ]
  },
  {
   "cell_type": "code",
   "execution_count": null,
   "id": "c343cdde",
   "metadata": {},
   "outputs": [],
   "source": [
    "# inherintance\n",
    "# class A: -- parents class\n",
    "# a=10\n",
    "# a=20\n",
    "\n",
    "# class B(A):---- child class\n",
    "# print(a+b)\n",
    "# obj=B()\n",
    "\n"
   ]
  },
  {
   "cell_type": "code",
   "execution_count": 12,
   "id": "d990b543",
   "metadata": {},
   "outputs": [
    {
     "ename": "AttributeError",
     "evalue": "'B' object has no attribute 'a'",
     "output_type": "error",
     "traceback": [
      "\u001b[1;31m---------------------------------------------------------------------------\u001b[0m",
      "\u001b[1;31mAttributeError\u001b[0m                            Traceback (most recent call last)",
      "\u001b[1;32m~\\AppData\\Local\\Temp/ipykernel_23716/1722643839.py\u001b[0m in \u001b[0;36m<module>\u001b[1;34m\u001b[0m\n\u001b[0;32m      9\u001b[0m \u001b[1;33m\u001b[0m\u001b[0m\n\u001b[0;32m     10\u001b[0m \u001b[0mobj\u001b[0m\u001b[1;33m=\u001b[0m \u001b[0mB\u001b[0m\u001b[1;33m(\u001b[0m\u001b[1;33m)\u001b[0m\u001b[1;33m\u001b[0m\u001b[1;33m\u001b[0m\u001b[0m\n\u001b[1;32m---> 11\u001b[1;33m \u001b[0mobj\u001b[0m\u001b[1;33m.\u001b[0m\u001b[0madd\u001b[0m\u001b[1;33m(\u001b[0m\u001b[1;33m)\u001b[0m\u001b[1;33m\u001b[0m\u001b[1;33m\u001b[0m\u001b[0m\n\u001b[0m\u001b[0;32m     12\u001b[0m \u001b[0mprint\u001b[0m\u001b[1;33m(\u001b[0m\u001b[0mobj\u001b[0m\u001b[1;33m)\u001b[0m\u001b[1;33m\u001b[0m\u001b[1;33m\u001b[0m\u001b[0m\n\u001b[0;32m     13\u001b[0m \u001b[1;33m\u001b[0m\u001b[0m\n",
      "\u001b[1;32m~\\AppData\\Local\\Temp/ipykernel_23716/1722643839.py\u001b[0m in \u001b[0;36madd\u001b[1;34m(self)\u001b[0m\n\u001b[0;32m      6\u001b[0m \u001b[1;32mclass\u001b[0m \u001b[0mB\u001b[0m\u001b[1;33m(\u001b[0m\u001b[0mA\u001b[0m\u001b[1;33m)\u001b[0m\u001b[1;33m:\u001b[0m\u001b[1;33m\u001b[0m\u001b[1;33m\u001b[0m\u001b[0m\n\u001b[0;32m      7\u001b[0m     \u001b[1;32mdef\u001b[0m \u001b[0madd\u001b[0m\u001b[1;33m(\u001b[0m\u001b[0mself\u001b[0m\u001b[1;33m)\u001b[0m\u001b[1;33m:\u001b[0m\u001b[1;33m\u001b[0m\u001b[1;33m\u001b[0m\u001b[0m\n\u001b[1;32m----> 8\u001b[1;33m         \u001b[0mprint\u001b[0m\u001b[1;33m(\u001b[0m\u001b[0mself\u001b[0m\u001b[1;33m.\u001b[0m\u001b[0ma\u001b[0m\u001b[1;33m+\u001b[0m\u001b[0mself\u001b[0m\u001b[1;33m.\u001b[0m\u001b[0mb\u001b[0m\u001b[1;33m)\u001b[0m\u001b[1;33m\u001b[0m\u001b[1;33m\u001b[0m\u001b[0m\n\u001b[0m\u001b[0;32m      9\u001b[0m \u001b[1;33m\u001b[0m\u001b[0m\n\u001b[0;32m     10\u001b[0m \u001b[0mobj\u001b[0m\u001b[1;33m=\u001b[0m \u001b[0mB\u001b[0m\u001b[1;33m(\u001b[0m\u001b[1;33m)\u001b[0m\u001b[1;33m\u001b[0m\u001b[1;33m\u001b[0m\u001b[0m\n",
      "\u001b[1;31mAttributeError\u001b[0m: 'B' object has no attribute 'a'"
     ]
    }
   ],
   "source": [
    "class A:\n",
    "    def __init__(self):\n",
    "        self.a=10\n",
    "        self.b=20\n",
    "        \n",
    "class B(A):\n",
    "    def add(self):\n",
    "        print(self.a+self.b)\n",
    "        \n",
    "obj= B()\n",
    "obj.add()\n",
    "print(obj)\n",
    "        "
   ]
  },
  {
   "cell_type": "code",
   "execution_count": null,
   "id": "9e991006",
   "metadata": {},
   "outputs": [],
   "source": []
  }
 ],
 "metadata": {
  "kernelspec": {
   "display_name": "Python 3 (ipykernel)",
   "language": "python",
   "name": "python3"
  },
  "language_info": {
   "codemirror_mode": {
    "name": "ipython",
    "version": 3
   },
   "file_extension": ".py",
   "mimetype": "text/x-python",
   "name": "python",
   "nbconvert_exporter": "python",
   "pygments_lexer": "ipython3",
   "version": "3.9.7"
  }
 },
 "nbformat": 4,
 "nbformat_minor": 5
}
