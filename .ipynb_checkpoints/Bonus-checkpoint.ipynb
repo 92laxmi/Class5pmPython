{
 "cells": [
  {
   "cell_type": "code",
   "execution_count": 2,
   "id": "5a209232",
   "metadata": {},
   "outputs": [
    {
     "name": "stdout",
     "output_type": "stream",
     "text": [
      "[2, 4, 6, 8, 10]\n"
     ]
    }
   ],
   "source": [
    "# Comprehension: List, Dictionary \n",
    "a=[1,2,3,4,5,6,7,8,9,10]\n",
    "b=[i for i in a if i%2==0]\n",
    "print(b)\n"
   ]
  },
  {
   "cell_type": "code",
   "execution_count": 3,
   "id": "97b89b5e",
   "metadata": {},
   "outputs": [
    {
     "name": "stdout",
     "output_type": "stream",
     "text": [
      "['Apple', 'Ant', 'Cat', 'Dog', 'Eye']\n"
     ]
    }
   ],
   "source": [
    "a=['Apple','Ant','Cat','Dog','Eye','hello','hi','i am here']\n",
    "b=[i for i in a if i[0].isupper()]\n",
    "print(b)"
   ]
  },
  {
   "cell_type": "code",
   "execution_count": 4,
   "id": "a99c70ae",
   "metadata": {},
   "outputs": [
    {
     "name": "stdout",
     "output_type": "stream",
     "text": [
      "['Apple', 'Ant']\n"
     ]
    }
   ],
   "source": [
    "a=['Apple','Ant','Cat','Dog','Eye','hello','hi','i am here']\n",
    "b=[i for i in a if i[0]=='A']\n",
    "print(b)"
   ]
  },
  {
   "cell_type": "code",
   "execution_count": 5,
   "id": "4e83f57c",
   "metadata": {},
   "outputs": [
    {
     "name": "stdout",
     "output_type": "stream",
     "text": [
      "{1: 2, 2: 4, 3: 6, 4: 8, 5: 10, 6: 12, 7: 14, 8: 16, 9: 18, 10: 20}\n"
     ]
    }
   ],
   "source": [
    "# mappings \n",
    "d={i:i*2 for i in range(1,11)} # multiplication table\n",
    "print (d)"
   ]
  },
  {
   "cell_type": "code",
   "execution_count": 6,
   "id": "2622b6e9",
   "metadata": {},
   "outputs": [
    {
     "name": "stdout",
     "output_type": "stream",
     "text": [
      "{1: 1, 2: 4, 3: 9, 4: 16, 5: 25, 6: 36, 7: 49, 8: 64, 9: 81, 10: 100}\n"
     ]
    }
   ],
   "source": [
    "# mappings \n",
    "d={i:i**2 for i in range(1,11)}  # finiding square\n",
    "print (d)"
   ]
  },
  {
   "cell_type": "code",
   "execution_count": 7,
   "id": "c29a80ad",
   "metadata": {},
   "outputs": [
    {
     "data": {
      "text/plain": [
       "{'Android': 7, 'Bluetooth': 9, 'Cartoon': 7}"
      ]
     },
     "execution_count": 7,
     "metadata": {},
     "output_type": "execute_result"
    }
   ],
   "source": [
    "a=['Android','Bluetooth','Cartoon']\n",
    "d={i:len(i) for i in a}\n",
    "d"
   ]
  },
  {
   "cell_type": "code",
   "execution_count": 8,
   "id": "49f3c2c6",
   "metadata": {},
   "outputs": [
    {
     "name": "stdout",
     "output_type": "stream",
     "text": [
      "['hello', 'hi', 'i am here']\n"
     ]
    }
   ],
   "source": [
    "a=['Apple','Ant','Cat','Dog','Eye','hello','hi','i am here']\n",
    "b=[i for i in a if i[0].islower()]\n",
    "print(b)"
   ]
  },
  {
   "cell_type": "code",
   "execution_count": 9,
   "id": "6af5cfc2",
   "metadata": {},
   "outputs": [
    {
     "name": "stdout",
     "output_type": "stream",
     "text": [
      "2022-04-15 17:31:08.778078\n"
     ]
    }
   ],
   "source": [
    "# Date and time\n",
    "import datetime\n",
    "x=datetime.datetime.now()\n",
    "print(x)"
   ]
  },
  {
   "cell_type": "code",
   "execution_count": null,
   "id": "ae5b6fc3",
   "metadata": {},
   "outputs": [],
   "source": []
  },
  {
   "cell_type": "code",
   "execution_count": null,
   "id": "a4e42439",
   "metadata": {},
   "outputs": [],
   "source": [
    "import datetime\n",
    "x=datetime.datetime.now()\n",
    "for i in range(10):\n",
    "    print(\"Hello World\")\n",
    "y=datetime.datetime.now()\n",
    "print(x-y)\n",
    "    "
   ]
  }
 ],
 "metadata": {
  "kernelspec": {
   "display_name": "Python 3 (ipykernel)",
   "language": "python",
   "name": "python3"
  },
  "language_info": {
   "codemirror_mode": {
    "name": "ipython",
    "version": 3
   },
   "file_extension": ".py",
   "mimetype": "text/x-python",
   "name": "python",
   "nbconvert_exporter": "python",
   "pygments_lexer": "ipython3",
   "version": "3.9.7"
  }
 },
 "nbformat": 4,
 "nbformat_minor": 5
}
